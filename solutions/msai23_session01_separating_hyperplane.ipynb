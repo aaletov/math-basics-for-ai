{
  "nbformat": 4,
  "nbformat_minor": 0,
  "metadata": {
    "colab": {
      "provenance": [],
      "include_colab_link": true
    },
    "kernelspec": {
      "name": "python3",
      "display_name": "Python 3"
    },
    "language_info": {
      "name": "python"
    }
  },
  "cells": [
    {
      "cell_type": "markdown",
      "metadata": {
        "id": "view-in-github",
        "colab_type": "text"
      },
      "source": [
        "<a href=\"https://colab.research.google.com/github/aaletov/math-basics-for-ai/blob/master/solutions/msai23_session01_separating_hyperplane.ipynb\" target=\"_parent\"><img src=\"https://colab.research.google.com/assets/colab-badge.svg\" alt=\"Open In Colab\"/></a>"
      ]
    },
    {
      "cell_type": "markdown",
      "source": [
        "# **Linear classifier**\n",
        "\n",
        "In the first lecture, we have discussed binary classification and linear classifiers that separate points between two classes with a **separating hyperplane**. How exactly this hyperplane is chosen is a subject for an ML course. In this notebook, you will experiment with such a hyperplane output by one particular ML model, Support Vector Machines (SVM)."
      ],
      "metadata": {
        "id": "_zOT-fAvT7Kz"
      }
    },
    {
      "cell_type": "code",
      "execution_count": null,
      "metadata": {
        "id": "2nGSHZiGOfwY"
      },
      "outputs": [],
      "source": [
        "import matplotlib.pyplot as plt\n",
        "import numpy as np\n",
        "from sklearn.datasets import make_blobs\n",
        "from sklearn.inspection import DecisionBoundaryDisplay\n",
        "from sklearn.svm import SVC"
      ]
    },
    {
      "cell_type": "markdown",
      "source": [
        "Let's generate some data first (change `random_seed` in case you want to generate a different set of points)."
      ],
      "metadata": {
        "id": "Be6Yn04ccRoR"
      }
    },
    {
      "cell_type": "code",
      "source": [
        "X, class_labels = make_blobs(n_samples=100, centers=2, random_state=0)"
      ],
      "metadata": {
        "id": "N-IjC9t9On27"
      },
      "execution_count": null,
      "outputs": []
    },
    {
      "cell_type": "markdown",
      "source": [
        "We have obtained 100 points in 2D, and each of them belongs to one of the two classes. The data is stored in the `X` array, and class labels are in `class_labels`. Let's visualize this:"
      ],
      "metadata": {
        "id": "8fFIYpWNcipI"
      }
    },
    {
      "cell_type": "code",
      "source": [
        "plt.scatter(X[:, 0], X[:, 1], c=class_labels, s=30, cmap=plt.cm.Paired)"
      ],
      "metadata": {
        "id": "6MWBHiT6OooK"
      },
      "execution_count": null,
      "outputs": []
    },
    {
      "cell_type": "markdown",
      "source": [
        "Let's use SVM to learn a separating hyperplane (in this 2D case, separating line) that nicely divides the two classes:"
      ],
      "metadata": {
        "id": "0a5xASAuc9wF"
      }
    },
    {
      "cell_type": "code",
      "source": [
        "svm = SVC(kernel='linear')\n",
        "svm.fit(X, class_labels)"
      ],
      "metadata": {
        "id": "0OEQVxQfOtAg"
      },
      "execution_count": null,
      "outputs": []
    },
    {
      "cell_type": "markdown",
      "source": [
        "Don't worry about SVM works, you can treat it as a black box for now. Important is that it has learned some separating hyperplane.\n",
        "\n",
        "`coef_`  and `intercept_` attributes of an `SVM` object store hyperplane weights $w$ and the intercept $b$, respectively. Let's print them out!"
      ],
      "metadata": {
        "id": "HK3NZT_NdLp9"
      }
    },
    {
      "cell_type": "code",
      "source": [
        "# TODO: what is the equation defining the separating hyperplane\n",
        "# learned by SVM?\n"
      ],
      "metadata": {
        "id": "RjnKgi9GO3Nc"
      },
      "execution_count": null,
      "outputs": []
    },
    {
      "cell_type": "markdown",
      "source": [
        "Now, let's plot the hyperplane together with the data."
      ],
      "metadata": {
        "id": "e23vf7m4eCbp"
      }
    },
    {
      "cell_type": "code",
      "source": [
        "# TODO: plot the data points as shown above,\n",
        "# but this time add the separating hyperplane obtained by SVM\n"
      ],
      "metadata": {
        "id": "ycmTzCx9PJFo"
      },
      "execution_count": null,
      "outputs": []
    },
    {
      "cell_type": "markdown",
      "source": [
        "How does SVM classify the data points? We can get its predictions with a `predict()` method:"
      ],
      "metadata": {
        "id": "hbL1UJs2eulV"
      }
    },
    {
      "cell_type": "code",
      "source": [
        "svm_predictions = svm.predict(X)\n",
        "svm_predictions"
      ],
      "metadata": {
        "id": "waUfxPfpaWPY"
      },
      "execution_count": null,
      "outputs": []
    },
    {
      "cell_type": "markdown",
      "source": [
        "Re-implement classification logic yourself by manually comparing the position of each data point w.r.t. the hyperplane and assigining the corresponding class label. Make sure your predictions are the same as those obtained via the `predict()` method."
      ],
      "metadata": {
        "id": "GHoErbTwe6NK"
      }
    },
    {
      "cell_type": "code",
      "source": [
        "# TODO: given the separated hyperplane SVM learned,\n",
        "# re-implement classification process from scratch\n"
      ],
      "metadata": {
        "id": "gLXajFB1acub"
      },
      "execution_count": null,
      "outputs": []
    },
    {
      "cell_type": "code",
      "source": [
        "(2*svm_predictions - 1) == my_predictions"
      ],
      "metadata": {
        "id": "qmpa3Ry9a13N"
      },
      "execution_count": null,
      "outputs": []
    },
    {
      "cell_type": "markdown",
      "source": [
        "How many examples were misclassified? Can you spot them on the plot you made above?"
      ],
      "metadata": {
        "id": "cJoAjxKIfnSQ"
      }
    },
    {
      "cell_type": "code",
      "source": [
        "# TODO: count the number of misclassified examples\n",
        "# and make sure you can spot all of them on the plot\n"
      ],
      "metadata": {
        "id": "zi1jmA-zP1vu"
      },
      "execution_count": null,
      "outputs": []
    }
  ]
}